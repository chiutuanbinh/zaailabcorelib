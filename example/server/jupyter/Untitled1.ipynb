{
 "cells": [
  {
   "cell_type": "code",
   "execution_count": 1,
   "metadata": {},
   "outputs": [],
   "source": [
    "import sys\n",
    "sys.path.append('..')\n",
    "sys.path.append('/Users/congvo/Workspace/zaailabcorelib/example/server/gen-py')\n",
    "sys.path.append(\"/Users/congvo/Workspace/zaailabcorelib/\")\n",
    "from zaailabcorelib.thrift.transport import TTransport, TSocket, TSSLSocket, THttpClient\n",
    "from zaailabcorelib.thrift.protocol.TBinaryProtocol import TBinaryProtocol\n",
    "\n",
    "from thrift_file import Ping\n",
    "from thrift_file.ttypes import *\n",
    "\n",
    "host = 'localhost'\n",
    "port = 8100\n",
    "socket = TSocket.TSocket(host, port)\n",
    "transport = TTransport.TFramedTransport(socket)\n",
    "protocol = TBinaryProtocol(transport)\n",
    "client = Ping.Client(protocol)\n",
    "\n",
    "def pong(val):\n",
    "\n",
    "#     host = '0.0.0.0'\n",
    "#     port = 8100\n",
    "#     socket = TSocket.TSocket(host, port)\n",
    "#     transport = TTransport.TFramedTransport(socket)\n",
    "#     protocol = TBinaryProtocol(transport)\n",
    "#     client = Ping.Client(protocol)\n",
    "    ret = None\n",
    "    transport.open()\n",
    "    try:\n",
    "#         print(val)\n",
    "        val = 10\n",
    "        ret = client.pong(int(val))\n",
    "    except Exception as e:\n",
    "        print(e)\n",
    "        transport.close()\n",
    "    transport.close()\n",
    "    return ret"
   ]
  },
  {
   "cell_type": "code",
   "execution_count": null,
   "metadata": {},
   "outputs": [],
   "source": []
  },
  {
   "cell_type": "code",
   "execution_count": 2,
   "metadata": {},
   "outputs": [
    {
     "name": "stdout",
     "output_type": "stream",
     "text": [
      "The slowest run took 8.90 times longer than the fastest. This could mean that an intermediate result is being cached.\n",
      "2.36 ms ± 2.95 ms per loop (mean ± std. dev. of 7 runs, 1000 loops each)\n"
     ]
    }
   ],
   "source": [
    "%timeit pong(1)"
   ]
  },
  {
   "cell_type": "code",
   "execution_count": null,
   "metadata": {},
   "outputs": [],
   "source": [
    "pong(10)"
   ]
  },
  {
   "cell_type": "code",
   "execution_count": null,
   "metadata": {},
   "outputs": [],
   "source": []
  },
  {
   "cell_type": "code",
   "execution_count": null,
   "metadata": {},
   "outputs": [],
   "source": [
    "from ailabtools.ailab_multiprocessing import pool_worker\n",
    "import time"
   ]
  },
  {
   "cell_type": "code",
   "execution_count": null,
   "metadata": {
    "scrolled": true
   },
   "outputs": [],
   "source": [
    "t = time.time()\n",
    "ret = pool_worker(target=pong, inputs=range(100000), num_worker=4)\n",
    "print(time.time() - t)"
   ]
  },
  {
   "cell_type": "code",
   "execution_count": null,
   "metadata": {},
   "outputs": [],
   "source": []
  },
  {
   "cell_type": "code",
   "execution_count": null,
   "metadata": {},
   "outputs": [],
   "source": []
  },
  {
   "cell_type": "code",
   "execution_count": 1,
   "metadata": {},
   "outputs": [],
   "source": [
    "import multiprocessing"
   ]
  },
  {
   "cell_type": "code",
   "execution_count": 2,
   "metadata": {},
   "outputs": [],
   "source": [
    "qu = multiprocessing.Queue()"
   ]
  },
  {
   "cell_type": "code",
   "execution_count": 6,
   "metadata": {},
   "outputs": [
    {
     "name": "stdout",
     "output_type": "stream",
     "text": [
      "The slowest run took 6.56 times longer than the fastest. This could mean that an intermediate result is being cached.\n",
      "5.48 µs ± 5.57 µs per loop (mean ± std. dev. of 10 runs, 1 loop each)\n"
     ]
    }
   ],
   "source": [
    "%timeit -r 10 -n 1 qu.put(10, block=False)"
   ]
  },
  {
   "cell_type": "code",
   "execution_count": 4,
   "metadata": {},
   "outputs": [
    {
     "name": "stdout",
     "output_type": "stream",
     "text": [
      "The slowest run took 5.36 times longer than the fastest. This could mean that an intermediate result is being cached.\n",
      "30.7 µs ± 18.4 µs per loop (mean ± std. dev. of 10 runs, 1 loop each)\n"
     ]
    }
   ],
   "source": [
    "%timeit -r 10 -n 1  qu.get(10)"
   ]
  },
  {
   "cell_type": "code",
   "execution_count": 8,
   "metadata": {},
   "outputs": [],
   "source": [
    "qu.put(10, block=False)"
   ]
  },
  {
   "cell_type": "code",
   "execution_count": null,
   "metadata": {},
   "outputs": [],
   "source": []
  },
  {
   "cell_type": "code",
   "execution_count": null,
   "metadata": {},
   "outputs": [],
   "source": []
  },
  {
   "cell_type": "code",
   "execution_count": null,
   "metadata": {},
   "outputs": [],
   "source": [
    "import tensorflow as tf\n",
    "graph = tf.Graph()\n",
    "sess = tf.Session(graph=graph)\n",
    "with graph.as_default():\n",
    "    x = tf.placeholder(dtype=tf.int32)\n",
    "    y = x + 10\n"
   ]
  },
  {
   "cell_type": "code",
   "execution_count": 9,
   "metadata": {},
   "outputs": [
    {
     "name": "stdout",
     "output_type": "stream",
     "text": [
      "predict:  Tensor(\"Placeholder:0\", dtype=int32)\n",
      "predict - result:  [array([[30]], dtype=int32)]\n"
     ]
    }
   ],
   "source": [
    "with graph.as_default():\n",
    "    print(\"predict: \", x)\n",
    "    result = sess.run([y], feed_dict={x: [[20]]})\n",
    "    print(\"predict - result: \", result)"
   ]
  },
  {
   "cell_type": "code",
   "execution_count": null,
   "metadata": {},
   "outputs": [],
   "source": []
  }
 ],
 "metadata": {
  "kernelspec": {
   "display_name": "Python 3",
   "language": "python",
   "name": "python3"
  },
  "language_info": {
   "codemirror_mode": {
    "name": "ipython",
    "version": 3
   },
   "file_extension": ".py",
   "mimetype": "text/x-python",
   "name": "python",
   "nbconvert_exporter": "python",
   "pygments_lexer": "ipython3",
   "version": "3.7.4"
  }
 },
 "nbformat": 4,
 "nbformat_minor": 4
}
